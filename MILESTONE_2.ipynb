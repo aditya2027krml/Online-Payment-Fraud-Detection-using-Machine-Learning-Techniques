{
 "cells": [
  {
   "cell_type": "markdown",
   "id": "0e50b30c-f405-410b-acb4-5856a0b15933",
   "metadata": {},
   "source": [
    "Aditya Kumar - Group A1"
   ]
  },
  {
   "cell_type": "markdown",
   "id": "c5c3b464-b3f7-4280-9501-a86263feb8ec",
   "metadata": {},
   "source": [
    "# ***MILESTONE-2 TASKS***"
   ]
  },
  {
   "cell_type": "markdown",
   "id": "fa31bddc-6e78-4390-944c-99a4fa02f07f",
   "metadata": {},
   "source": [
    "## Importing necessary libraries"
   ]
  },
  {
   "cell_type": "code",
   "execution_count": 23,
   "id": "7f67b8f4-709a-4543-9c06-de06631cc74b",
   "metadata": {},
   "outputs": [],
   "source": [
    "import pandas as pd\n",
    "from sklearn.preprocessing import StandardScaler\n",
    "from sklearn.model_selection import train_test_split"
   ]
  },
  {
   "cell_type": "markdown",
   "id": "b809abd2-0cf0-4602-9a95-aeb93f5b2834",
   "metadata": {},
   "source": [
    "## Load the dataset into a Pandas DataFrame"
   ]
  },
  {
   "cell_type": "code",
   "execution_count": 24,
   "id": "2a49b9ac-14ff-4b52-a586-c0b678bb9e2b",
   "metadata": {},
   "outputs": [],
   "source": [
    "df = pd.read_csv('Main_cleaned_dataset.csv')"
   ]
  },
  {
   "cell_type": "markdown",
   "id": "c6911160-c266-40ee-9b0a-f25414c2226b",
   "metadata": {},
   "source": [
    "### Print the first few rows of the DataFrame to verify"
   ]
  },
  {
   "cell_type": "code",
   "execution_count": 25,
   "id": "ba629149-e261-4adc-816d-c940df470a93",
   "metadata": {},
   "outputs": [
    {
     "name": "stdout",
     "output_type": "stream",
     "text": [
      "   type      amount  oldbalanceOrg  newbalanceOrig  isFraud\n",
      "0     1     4241.44        4241.44            0.00        1\n",
      "1     4   245694.84      245694.84            0.00        1\n",
      "2     3   144403.82    14948244.86     15092648.68        0\n",
      "3     4  1532229.72     1532229.72            0.00        1\n",
      "4     4    37766.23       37766.23            0.00        1\n"
     ]
    }
   ],
   "source": [
    "print(df.head())"
   ]
  },
  {
   "cell_type": "markdown",
   "id": "e81d062b-db0a-4f65-be65-e5885787d83e",
   "metadata": {},
   "source": [
    "### Print the shape of the dataset"
   ]
  },
  {
   "cell_type": "code",
   "execution_count": 26,
   "id": "54714979-4b66-4f26-b2a9-de1fdbbd9165",
   "metadata": {},
   "outputs": [
    {
     "name": "stdout",
     "output_type": "stream",
     "text": [
      "Shape of the dataset:  (16426, 5)\n"
     ]
    }
   ],
   "source": [
    "print(\"Shape of the dataset: \", df.shape)"
   ]
  },
  {
   "cell_type": "markdown",
   "id": "0a2336a2-7783-4c65-b566-72bf86cf3420",
   "metadata": {},
   "source": [
    "### Print the number of samples in the dataset"
   ]
  },
  {
   "cell_type": "code",
   "execution_count": 27,
   "id": "11613a36-6b10-46ea-920b-edf1340d8bf0",
   "metadata": {},
   "outputs": [
    {
     "name": "stdout",
     "output_type": "stream",
     "text": [
      "Number of samples in the dataset:  16426\n"
     ]
    }
   ],
   "source": [
    "print(\"Number of samples in the dataset: \", df.shape[0])"
   ]
  },
  {
   "cell_type": "markdown",
   "id": "2d8c5f8f-1a64-4bf4-b7ed-8e57f4f19e60",
   "metadata": {},
   "source": [
    "### Print the value count of 0s and 1s in the isFraud column"
   ]
  },
  {
   "cell_type": "code",
   "execution_count": 28,
   "id": "a635ff2f-1c5c-4f14-8084-7a44ce65520b",
   "metadata": {},
   "outputs": [
    {
     "name": "stdout",
     "output_type": "stream",
     "text": [
      "Value count of 0s and 1s in the isFraud column: \n",
      "isFraud\n",
      "1    8213\n",
      "0    8213\n",
      "Name: count, dtype: int64\n"
     ]
    }
   ],
   "source": [
    "print(\"Value count of 0s and 1s in the isFraud column: \")\n",
    "print(df['isFraud'].value_counts())"
   ]
  },
  {
   "cell_type": "markdown",
   "id": "4e8ad8e3-27b6-4c2a-b66b-6c98cdf3aa36",
   "metadata": {},
   "source": [
    "## Checking for missing values in the dataset"
   ]
  },
  {
   "cell_type": "code",
   "execution_count": 29,
   "id": "596ad8ba-f400-4003-ab1e-bea5b908d53a",
   "metadata": {},
   "outputs": [
    {
     "name": "stdout",
     "output_type": "stream",
     "text": [
      "Missing values in the dataset:\n",
      "type              0\n",
      "amount            0\n",
      "oldbalanceOrg     0\n",
      "newbalanceOrig    0\n",
      "isFraud           0\n",
      "dtype: int64\n"
     ]
    }
   ],
   "source": [
    "print(\"Missing values in the dataset:\")\n",
    "print(df.isnull().sum())"
   ]
  },
  {
   "cell_type": "markdown",
   "id": "31723f21-4f35-4d95-8e08-87837afe4235",
   "metadata": {},
   "source": [
    "## Normalize Numerical Features"
   ]
  },
  {
   "cell_type": "code",
   "execution_count": 30,
   "id": "d98d5b15-64d4-44f2-b758-d73b1b3ec6d1",
   "metadata": {},
   "outputs": [],
   "source": [
    "# List of numerical columns to normalize\n",
    "numerical_cols = ['amount', 'oldbalanceOrg', 'newbalanceOrig', 'isFraud']  # replace with your column names"
   ]
  },
  {
   "cell_type": "markdown",
   "id": "3747df0e-b1af-4dc3-af1c-903f6d1ca87c",
   "metadata": {},
   "source": [
    "## The SatandardScalar"
   ]
  },
  {
   "cell_type": "markdown",
   "id": "c61f01ef-8318-48a0-b663-a22c760cfd84",
   "metadata": {},
   "source": [
    "- The StandardScaler in machine learning is used for standardizing features by removing the mean and scaling to unit variance. \n",
    "- Using StandardScaler is crucial in preparing your data for modeling, especially when working with algorithms that benefit from or require standardized input data.\n",
    "- Normalization of Data: In many machine learning algorithms, the scale of the features can impact the performance. Features with larger scales might dominate the learning process or algorithmically appear more important than they are. Standardizing the features ensures that each feature contributes equally to the analysis.\n",
    "- It helps in achieving better model performance, robustness, and consistency in interpreting feature importance or coefficients."
   ]
  },
  {
   "cell_type": "code",
   "execution_count": 31,
   "id": "1b8d0592-2b74-48f1-9528-3724092a3e84",
   "metadata": {},
   "outputs": [
    {
     "name": "stdout",
     "output_type": "stream",
     "text": [
      "Dataset after normalizing numerical features:\n",
      "   type    amount  oldbalanceOrg  newbalanceOrig  isFraud\n",
      "0     1 -0.440110      -0.376804       -0.205490      1.0\n",
      "1     4 -0.310402      -0.302983       -0.205490      1.0\n",
      "2     3 -0.364815       4.192156        5.770533     -1.0\n",
      "3     4  0.380722       0.090361       -0.205490      1.0\n",
      "4     4 -0.422100      -0.366555       -0.205490      1.0\n"
     ]
    }
   ],
   "source": [
    "# Initialize the scaler\n",
    "scaler = StandardScaler()\n",
    "\n",
    "# Fit and transform the numerical columns\n",
    "df[numerical_cols] = scaler.fit_transform(df[numerical_cols])\n",
    "\n",
    "# Display the first few rows of the dataframe after preprocessing\n",
    "print(\"Dataset after normalizing numerical features:\")\n",
    "print(df.head())"
   ]
  },
  {
   "cell_type": "markdown",
   "id": "49482c9a-99a4-4b43-a1b9-704dd9a30a1d",
   "metadata": {},
   "source": [
    "# Split the Data:\n",
    "- Define the feature set (X) and the target variable (y)\n",
    "- Split the data into training, validation, and test sets"
   ]
  },
  {
   "cell_type": "code",
   "execution_count": 32,
   "id": "e9afa008-6f36-49db-afe2-7fc17f6e3cc2",
   "metadata": {},
   "outputs": [
    {
     "name": "stdout",
     "output_type": "stream",
     "text": [
      "X_train shape: (9855, 4)\n",
      "y_train shape: (9855,)\n",
      "X_val shape: (3285, 4)\n",
      "y_val shape: (3285,)\n",
      "X_test shape: (3286, 4)\n",
      "y_test shape: (3286,)\n"
     ]
    }
   ],
   "source": [
    "from sklearn.model_selection import train_test_split\n",
    "# Define the feature set and target variable\n",
    "X = df[['type', 'amount', 'oldbalanceOrg', 'newbalanceOrig']]\n",
    "y = df['isFraud']\n",
    "\n",
    "# Scale the feature set\n",
    "scaler = StandardScaler()\n",
    "X = scaler.fit_transform(X)\n",
    "\n",
    "# Split the data into training and temporary sets (40% for validation and test)\n",
    "X_train, X_temp, y_train, y_temp = train_test_split(X, y, test_size=0.4, random_state=42)\n",
    "\n",
    "# Split the temporary set into validation and test sets (50% each, i.e., 20% of the total each)\n",
    "X_val, X_test, y_val, y_test = train_test_split(X_temp, y_temp, test_size=0.5, random_state=42)\n",
    "\n",
    "# Print the shapes of the resulting arrays\n",
    "print(\"X_train shape:\", X_train.shape)\n",
    "print(\"y_train shape:\", y_train.shape)\n",
    "print(\"X_val shape:\", X_val.shape)\n",
    "print(\"y_val shape:\", y_val.shape)\n",
    "print(\"X_test shape:\", X_test.shape)\n",
    "print(\"y_test shape:\", y_test.shape)"
   ]
  },
  {
   "cell_type": "markdown",
   "id": "15c0bcb3-3792-44a4-8469-f7e591844411",
   "metadata": {},
   "source": [
    "## Fit and transform the training data using StandardScaler.\n",
    "### Transform the validation and test data with the same scaler."
   ]
  },
  {
   "cell_type": "code",
   "execution_count": 33,
   "id": "aadd694b-39fa-43da-b4b5-4ad8345b45af",
   "metadata": {},
   "outputs": [],
   "source": [
    "scaler = StandardScaler()\n",
    "X_train_scaled = scaler.fit_transform(X_train)\n",
    "X_val_scaled = scaler.transform(X_val)\n",
    "X_test_scaled = scaler.transform(X_test)"
   ]
  },
  {
   "cell_type": "markdown",
   "id": "bb0affd5-5f47-45bd-ad2b-a59c1031fedb",
   "metadata": {},
   "source": [
    "# *Experiment with different classification algorithms*"
   ]
  },
  {
   "cell_type": "markdown",
   "id": "74d8bcc7-ddda-467c-b990-350bf89e57e8",
   "metadata": {},
   "source": [
    "## Importing Necessary Libraries"
   ]
  },
  {
   "cell_type": "code",
   "execution_count": 34,
   "id": "e2fc4a54-3456-474b-bd13-b5667f7c0e4b",
   "metadata": {},
   "outputs": [],
   "source": [
    "import pandas as pd\n",
    "from sklearn.model_selection import train_test_split\n",
    "from sklearn.linear_model import LogisticRegression\n",
    "from sklearn.ensemble import RandomForestClassifier\n",
    "from sklearn.tree import DecisionTreeClassifier\n",
    "from sklearn.svm import SVC\n",
    "import xgboost as xgb\n",
    "from sklearn.metrics import accuracy_score, classification_report, confusion_matrix"
   ]
  },
  {
   "cell_type": "markdown",
   "id": "f9c40f5b-11c0-4d88-ba6b-1c02ee207e58",
   "metadata": {},
   "source": [
    "# Model Training\n",
    "##### As the prediction is a classification problem so the models we will be using are :\n",
    "\n",
    "#### 1.LogisticRegression :It predicts that the probability of a given data belongs to the particular category or not.\n",
    "#### 2.XGBClassifier : It refers to Gradient Boosted decision trees. In this algorithm, decision trees are created in sequential form and weights are assigned to all the independent variables which are then fed into the decision tree which predicts results.\n",
    "#### 3.SVC : SVC is used to find a hyperplane in an N-dimensional space that distinctly classifies the data points. Then it gives the output according the most nearby element.\n",
    "#### 4.RandomForestClassifier : Random forest classifier creates a set of decision trees from a randomly selected subset of the training set. Then, it collects the votes from different decision trees to decide the final prediction.\n",
    "#### 5.DecisionTreeClassifier : The Decision Tree algorithm uses a data structure called a tree to predict the outcome of a particular problem. Since the decision tree follows a supervised approach, the algorithm is fed with a collection of pre-processed data. This data is used to train the algorithm."
   ]
  },
  {
   "cell_type": "code",
   "execution_count": 35,
   "id": "f7cd8f4c-d295-4e3d-8391-00c360367371",
   "metadata": {},
   "outputs": [
    {
     "name": "stdout",
     "output_type": "stream",
     "text": [
      "Training Logistic Regression...\n",
      "Training Accuracy: 88.60%\n",
      "Validation Accuracy: 90.14%\n",
      "Test Accuracy: 87.83%\n",
      "Classification Report:\n",
      "              precision    recall  f1-score   support\n",
      "\n",
      "         0.0       0.82      0.97      0.89       820\n",
      "         1.0       0.96      0.79      0.87       823\n",
      "\n",
      "    accuracy                           0.88      1643\n",
      "   macro avg       0.89      0.88      0.88      1643\n",
      "weighted avg       0.89      0.88      0.88      1643\n",
      "\n",
      "Confusion Matrix:\n",
      "[[795  25]\n",
      " [175 648]]\n",
      "\n",
      "Training XGB Classifier...\n",
      "Training Accuracy: 99.57%\n",
      "Validation Accuracy: 99.70%\n",
      "Test Accuracy: 99.57%\n",
      "Classification Report:\n",
      "              precision    recall  f1-score   support\n",
      "\n",
      "         0.0       1.00      0.99      1.00       820\n",
      "         1.0       0.99      1.00      1.00       823\n",
      "\n",
      "    accuracy                           1.00      1643\n",
      "   macro avg       1.00      1.00      1.00      1643\n",
      "weighted avg       1.00      1.00      1.00      1643\n",
      "\n",
      "Confusion Matrix:\n",
      "[[815   5]\n",
      " [  2 821]]\n",
      "\n",
      "Training SVC...\n",
      "Training Accuracy: 89.67%\n",
      "Validation Accuracy: 90.32%\n",
      "Test Accuracy: 88.37%\n",
      "Classification Report:\n",
      "              precision    recall  f1-score   support\n",
      "\n",
      "         0.0       0.83      0.96      0.89       820\n",
      "         1.0       0.95      0.81      0.87       823\n",
      "\n",
      "    accuracy                           0.88      1643\n",
      "   macro avg       0.89      0.88      0.88      1643\n",
      "weighted avg       0.89      0.88      0.88      1643\n",
      "\n",
      "Confusion Matrix:\n",
      "[[784  36]\n",
      " [155 668]]\n",
      "\n",
      "Training Random Forest Classifier...\n",
      "Training Accuracy: 100.00%\n",
      "Validation Accuracy: 99.51%\n",
      "Test Accuracy: 99.39%\n",
      "Classification Report:\n",
      "              precision    recall  f1-score   support\n",
      "\n",
      "         0.0       1.00      0.99      0.99       820\n",
      "         1.0       0.99      1.00      0.99       823\n",
      "\n",
      "    accuracy                           0.99      1643\n",
      "   macro avg       0.99      0.99      0.99      1643\n",
      "weighted avg       0.99      0.99      0.99      1643\n",
      "\n",
      "Confusion Matrix:\n",
      "[[812   8]\n",
      " [  2 821]]\n",
      "\n",
      "Training Decision Tree Classifier...\n",
      "Training Accuracy: 100.00%\n",
      "Validation Accuracy: 99.57%\n",
      "Test Accuracy: 99.39%\n",
      "Classification Report:\n",
      "              precision    recall  f1-score   support\n",
      "\n",
      "         0.0       1.00      0.99      0.99       820\n",
      "         1.0       0.99      1.00      0.99       823\n",
      "\n",
      "    accuracy                           0.99      1643\n",
      "   macro avg       0.99      0.99      0.99      1643\n",
      "weighted avg       0.99      0.99      0.99      1643\n",
      "\n",
      "Confusion Matrix:\n",
      "[[813   7]\n",
      " [  3 820]]\n",
      "\n"
     ]
    }
   ],
   "source": [
    "# Replace target variable values\n",
    "y = y.replace(-1, 0)\n",
    "\n",
    "# Split the data into training, validation, and test sets\n",
    "X_train, X_val, y_train, y_val = train_test_split(X, y, test_size=0.2, random_state=42)\n",
    "X_val, X_test, y_val, y_test = train_test_split(X_val, y_val, test_size=0.5, random_state=42)\n",
    "\n",
    "# Initialize models\n",
    "models = {\n",
    "    'Logistic Regression': LogisticRegression(),\n",
    "    'XGB Classifier': xgb.XGBClassifier(),\n",
    "    'SVC': SVC(),\n",
    "    'Random Forest Classifier': RandomForestClassifier(),\n",
    "    'Decision Tree Classifier': DecisionTreeClassifier()\n",
    "}\n",
    "\n",
    "# Train and evaluate each model\n",
    "for name, model in models.items():\n",
    "    print(f\"Training {name}...\")\n",
    "    model.fit(X_train, y_train)                 #----------------> Trains the model on the training set.\n",
    "    \n",
    "    # Predict on training, validation, and test sets\n",
    "    y_train_pred = model.predict(X_train)\n",
    "    y_val_pred = model.predict(X_val)\n",
    "    y_test_pred = model.predict(X_test)         #----------------> Makes predictions on the test set.\n",
    "    \n",
    "    # Calculate accuracies\n",
    "    train_accuracy = accuracy_score(y_train, y_train_pred)\n",
    "    val_accuracy = accuracy_score(y_val, y_val_pred)          #----------------> Calculates the accuracy of the model.\n",
    "    test_accuracy = accuracy_score(y_test, y_test_pred)\n",
    "    \n",
    "    # Print accuracies\n",
    "    print(f\"Training Accuracy: {train_accuracy*100:.2f}%\")\n",
    "    print(f\"Validation Accuracy: {val_accuracy*100:.2f}%\")\n",
    "    print(f\"Test Accuracy: {test_accuracy*100:.2f}%\")        #-------------> Displays the accuracy of the model.\n",
    "    \n",
    "    # Print classification report and confusion matrix\n",
    "    report = classification_report(y_test, y_test_pred)      #-------------> Generates a classification report with precision, recall, and F1 score.\n",
    "    matrix = confusion_matrix(y_test, y_test_pred)           #-------------> Computes the confusion matrix.\n",
    "    print(f\"Classification Report:\\n{report}\")               #-------------> Displays the classification report.\n",
    "    print(f\"Confusion Matrix:\\n{matrix}\\n\")                  #-------------> Displays the confusion matrix."
   ]
  },
  {
   "cell_type": "markdown",
   "id": "d1c631ec-1069-46de-a079-b2319846327d",
   "metadata": {},
   "source": [
    "# Selecting the Best Classifier for our Model"
   ]
  },
  {
   "cell_type": "markdown",
   "id": "efd22110-10d5-4e80-82e4-9b7369b544fc",
   "metadata": {},
   "source": [
    "#### Based on the output, it's clear that the XGB Classifier, Random Forest Classifier, and Decision Tree Classifier are performing exceptionally well, with test accuracies of 99.57%, 99.51%, and 99.39%, respectively.\n",
    "\n",
    "However, I would recommend the XGB Classifier as the best model for this project. Here's why:\n",
    "\n",
    "- **Consistency:** The XGB Classifier has consistently high accuracy across training, validation, and test sets, indicating that it's not overfitting or -underfitting.\n",
    "- **High Precision and Recall:** The XGB Classifier has high precision and recall for both classes, indicating that it's accurately detecting both fraudulent and non-fraudulent transactions.\n",
    "- __Low False Positives and False Negatives:__ The confusion matrix shows that the XGB Classifier has only 5 false positives and 2 false negatives, which is impressive given the class imbalance.\n",
    "- __Interpretable:__ XGB Classifier provides feature importance scores, which can help in understanding the most important features contributing to the model's predictions.\n",
    "- __Handling Imbalanced Data:__ XGBoost is known for its ability to handle imbalanced datasets, which is common in fraud detection problems. It uses a weighted loss function to give more importance to the minority class (fraudulent transactions).\n",
    "- __Feature Interaction:__ XGBoost can capture complex interactions between features, which is important in fraud detection where multiple factors contribute to a transaction being fraudulent.\n",
    "- __Scalability:__ XGBoost is highly scalable and can handle large datasets, making it suitable for big data applications."
   ]
  },
  {
   "cell_type": "markdown",
   "id": "2779831e-d435-4eb4-8d5a-fd18012e05db",
   "metadata": {},
   "source": [
    "#### Confusion Matrix of XGB Classifier:\n",
    "\n",
    "-  True Negatives: 815; \n",
    "-   False Positives: 5; \n",
    "-   False Negatives: 2; \n",
    "-  True Positives: 821; "
   ]
  },
  {
   "cell_type": "markdown",
   "id": "6ed16ff5-9ddf-495e-a741-b0748f11c478",
   "metadata": {},
   "source": [
    "## Why not other models?"
   ]
  },
  {
   "cell_type": "markdown",
   "id": "6373cf3d-aaa4-4fab-a0da-253ee2ab8d6c",
   "metadata": {},
   "source": [
    "While other models, like Random Forest Classifier and SVC, also performed well, they have some limitations:\n",
    "\n",
    "Random Forest Classifier can be prone to overfitting, especially with large datasets.\n",
    "SVC can be sensitive to the choice of kernel and hyperparameters, which can be time-consuming to tune.\n",
    "Logistic Regression and Decision Tree Classifier performed relatively poorly, which might be due to their simplicity and inability to capture complex interactions between features."
   ]
  },
  {
   "cell_type": "code",
   "execution_count": 36,
   "id": "7e407eb0-b0e7-4ebc-9ca1-3966bf09b370",
   "metadata": {},
   "outputs": [
    {
     "data": {
      "text/plain": [
       "4"
      ]
     },
     "execution_count": 36,
     "metadata": {},
     "output_type": "execute_result"
    }
   ],
   "source": [
    "X_train.shape[1]"
   ]
  },
  {
   "cell_type": "markdown",
   "id": "9ba2aeb9-a595-4790-8ef1-9480cde3902b",
   "metadata": {},
   "source": [
    "# ***BEST MODEL : XGB CLASSIFIER***"
   ]
  },
  {
   "cell_type": "markdown",
   "id": "b2c0b2bf-6cef-4dd6-b211-6482074d3525",
   "metadata": {},
   "source": [
    " ## Training The  XGB Classifier as a TensorFlow model using the Sequential API:"
   ]
  },
  {
   "cell_type": "code",
   "execution_count": 37,
   "id": "c490b8ef-9727-4c60-bb81-7a01af3948ce",
   "metadata": {},
   "outputs": [
    {
     "name": "stdout",
     "output_type": "stream",
     "text": [
      "Epoch 1/10\n"
     ]
    },
    {
     "name": "stderr",
     "output_type": "stream",
     "text": [
      "C:\\Python312\\Lib\\site-packages\\keras\\src\\layers\\core\\dense.py:85: UserWarning: Do not pass an `input_shape`/`input_dim` argument to a layer. When using Sequential models, prefer using an `Input(shape)` object as the first layer in the model instead.\n",
      "  super().__init__(activity_regularizer=activity_regularizer, **kwargs)\n"
     ]
    },
    {
     "name": "stdout",
     "output_type": "stream",
     "text": [
      "103/103 - 1s - 8ms/step - accuracy: 0.7866 - loss: 0.5041 - val_accuracy: 0.8564 - val_loss: 0.3769\n",
      "Epoch 2/10\n",
      "103/103 - 0s - 2ms/step - accuracy: 0.8471 - loss: 0.3426 - val_accuracy: 0.8624 - val_loss: 0.3070\n",
      "Epoch 3/10\n",
      "103/103 - 0s - 2ms/step - accuracy: 0.8642 - loss: 0.2925 - val_accuracy: 0.8862 - val_loss: 0.2657\n",
      "Epoch 4/10\n",
      "103/103 - 0s - 2ms/step - accuracy: 0.8901 - loss: 0.2575 - val_accuracy: 0.8947 - val_loss: 0.2398\n",
      "Epoch 5/10\n",
      "103/103 - 0s - 2ms/step - accuracy: 0.9021 - loss: 0.2344 - val_accuracy: 0.9191 - val_loss: 0.2215\n",
      "Epoch 6/10\n",
      "103/103 - 0s - 2ms/step - accuracy: 0.9119 - loss: 0.2153 - val_accuracy: 0.9197 - val_loss: 0.1999\n",
      "Epoch 7/10\n",
      "103/103 - 0s - 2ms/step - accuracy: 0.9189 - loss: 0.2005 - val_accuracy: 0.9306 - val_loss: 0.1883\n",
      "Epoch 8/10\n",
      "103/103 - 0s - 2ms/step - accuracy: 0.9253 - loss: 0.1879 - val_accuracy: 0.9257 - val_loss: 0.1773\n",
      "Epoch 9/10\n",
      "103/103 - 0s - 2ms/step - accuracy: 0.9322 - loss: 0.1778 - val_accuracy: 0.9355 - val_loss: 0.1680\n",
      "Epoch 10/10\n",
      "103/103 - 0s - 2ms/step - accuracy: 0.9379 - loss: 0.1672 - val_accuracy: 0.9434 - val_loss: 0.1580\n",
      "[0.7866057753562927, 0.8471080660820007, 0.8642313480377197, 0.8901065587997437, 0.9020547866821289, 0.911872148513794, 0.91887366771698, 0.9253424406051636, 0.932191789150238, 0.9378995299339294]\n",
      "[0.8563603162765503, 0.8624467253684998, 0.8861837983131409, 0.8947048187255859, 0.9190505146980286, 0.9196591377258301, 0.930614709854126, 0.9257456064224243, 0.9354838728904724, 0.9433962106704712]\n"
     ]
    }
   ],
   "source": [
    "import tensorflow as tf\n",
    "from tensorflow.keras.layers import Dense\n",
    "\n",
    "n_features = X_train.shape[1]  # define n_features\n",
    "\n",
    "# Define the XGB Classifier as a TensorFlow model architecture using Sequential API\n",
    "model = tf.keras.models.Sequential([\n",
    "    Dense(64, activation='relu', input_shape=(n_features,)),  # input layer (n_features) -> 64 units\n",
    "    Dense(32, activation='relu'),  # hidden layer 1 (64) -> 32 units\n",
    "    Dense(2, activation='softmax')  # output layer (32) -> 2 units (fraud/not fraud)\n",
    "])\n",
    "\n",
    "# Compile the TensorFlow model with appropriate optimizer and loss function\n",
    "model.compile(optimizer='adam',\n",
    "              loss='sparse_categorical_crossentropy',\n",
    "              metrics=['accuracy'])\n",
    "\n",
    "# Train the model using the fit() method with training data\n",
    "history = model.fit(X_train, y_train, \n",
    "                    epochs=10, \n",
    "                    batch_size=128, \n",
    "                    validation_data=(X_val, y_val), \n",
    "                    verbose=2)\n",
    "\n",
    "# Print the training and validation accuracy at each epoch\n",
    "print(history.history['accuracy'])\n",
    "print(history.history['val_accuracy'])"
   ]
  },
  {
   "cell_type": "markdown",
   "id": "52e7fc48-3c81-40f3-baeb-ce65383f41d3",
   "metadata": {},
   "source": [
    "--------------------------------------------------------------------------------------------------------------------------------------------------------\n",
    "## Here's what's happening in the code:\n",
    "- We define the XGB Classifier as a TensorFlow model using the Sequential API.\n",
    "- We add three Dense layers:\n",
    "- The input layer has n_features inputs and 64 units with a ReLU activation function.\n",
    "- The first hidden layer has 64 inputs and 32 units with a ReLU activation function.\n",
    "- The output layer has 32 inputs and 2 units with a softmax activation function (for binary classification)"
   ]
  },
  {
   "cell_type": "code",
   "execution_count": 38,
   "id": "e44ce207-6ecd-4e0a-bb0c-43b5f38f9ccc",
   "metadata": {},
   "outputs": [
    {
     "data": {
      "text/html": [
       "<pre style=\"white-space:pre;overflow-x:auto;line-height:normal;font-family:Menlo,'DejaVu Sans Mono',consolas,'Courier New',monospace\"><span style=\"font-weight: bold\">Model: \"sequential_1\"</span>\n",
       "</pre>\n"
      ],
      "text/plain": [
       "\u001b[1mModel: \"sequential_1\"\u001b[0m\n"
      ]
     },
     "metadata": {},
     "output_type": "display_data"
    },
    {
     "data": {
      "text/html": [
       "<pre style=\"white-space:pre;overflow-x:auto;line-height:normal;font-family:Menlo,'DejaVu Sans Mono',consolas,'Courier New',monospace\">┏━━━━━━━━━━━━━━━━━━━━━━━━━━━━━━━━━━━━━━┳━━━━━━━━━━━━━━━━━━━━━━━━━━━━━┳━━━━━━━━━━━━━━━━━┓\n",
       "┃<span style=\"font-weight: bold\"> Layer (type)                         </span>┃<span style=\"font-weight: bold\"> Output Shape                </span>┃<span style=\"font-weight: bold\">         Param # </span>┃\n",
       "┡━━━━━━━━━━━━━━━━━━━━━━━━━━━━━━━━━━━━━━╇━━━━━━━━━━━━━━━━━━━━━━━━━━━━━╇━━━━━━━━━━━━━━━━━┩\n",
       "│ dense_3 (<span style=\"color: #0087ff; text-decoration-color: #0087ff\">Dense</span>)                      │ (<span style=\"color: #00d7ff; text-decoration-color: #00d7ff\">None</span>, <span style=\"color: #00af00; text-decoration-color: #00af00\">64</span>)                  │             <span style=\"color: #00af00; text-decoration-color: #00af00\">320</span> │\n",
       "├──────────────────────────────────────┼─────────────────────────────┼─────────────────┤\n",
       "│ dense_4 (<span style=\"color: #0087ff; text-decoration-color: #0087ff\">Dense</span>)                      │ (<span style=\"color: #00d7ff; text-decoration-color: #00d7ff\">None</span>, <span style=\"color: #00af00; text-decoration-color: #00af00\">32</span>)                  │           <span style=\"color: #00af00; text-decoration-color: #00af00\">2,080</span> │\n",
       "├──────────────────────────────────────┼─────────────────────────────┼─────────────────┤\n",
       "│ dense_5 (<span style=\"color: #0087ff; text-decoration-color: #0087ff\">Dense</span>)                      │ (<span style=\"color: #00d7ff; text-decoration-color: #00d7ff\">None</span>, <span style=\"color: #00af00; text-decoration-color: #00af00\">2</span>)                   │              <span style=\"color: #00af00; text-decoration-color: #00af00\">66</span> │\n",
       "└──────────────────────────────────────┴─────────────────────────────┴─────────────────┘\n",
       "</pre>\n"
      ],
      "text/plain": [
       "┏━━━━━━━━━━━━━━━━━━━━━━━━━━━━━━━━━━━━━━┳━━━━━━━━━━━━━━━━━━━━━━━━━━━━━┳━━━━━━━━━━━━━━━━━┓\n",
       "┃\u001b[1m \u001b[0m\u001b[1mLayer (type)                        \u001b[0m\u001b[1m \u001b[0m┃\u001b[1m \u001b[0m\u001b[1mOutput Shape               \u001b[0m\u001b[1m \u001b[0m┃\u001b[1m \u001b[0m\u001b[1m        Param #\u001b[0m\u001b[1m \u001b[0m┃\n",
       "┡━━━━━━━━━━━━━━━━━━━━━━━━━━━━━━━━━━━━━━╇━━━━━━━━━━━━━━━━━━━━━━━━━━━━━╇━━━━━━━━━━━━━━━━━┩\n",
       "│ dense_3 (\u001b[38;5;33mDense\u001b[0m)                      │ (\u001b[38;5;45mNone\u001b[0m, \u001b[38;5;34m64\u001b[0m)                  │             \u001b[38;5;34m320\u001b[0m │\n",
       "├──────────────────────────────────────┼─────────────────────────────┼─────────────────┤\n",
       "│ dense_4 (\u001b[38;5;33mDense\u001b[0m)                      │ (\u001b[38;5;45mNone\u001b[0m, \u001b[38;5;34m32\u001b[0m)                  │           \u001b[38;5;34m2,080\u001b[0m │\n",
       "├──────────────────────────────────────┼─────────────────────────────┼─────────────────┤\n",
       "│ dense_5 (\u001b[38;5;33mDense\u001b[0m)                      │ (\u001b[38;5;45mNone\u001b[0m, \u001b[38;5;34m2\u001b[0m)                   │              \u001b[38;5;34m66\u001b[0m │\n",
       "└──────────────────────────────────────┴─────────────────────────────┴─────────────────┘\n"
      ]
     },
     "metadata": {},
     "output_type": "display_data"
    },
    {
     "data": {
      "text/html": [
       "<pre style=\"white-space:pre;overflow-x:auto;line-height:normal;font-family:Menlo,'DejaVu Sans Mono',consolas,'Courier New',monospace\"><span style=\"font-weight: bold\"> Total params: </span><span style=\"color: #00af00; text-decoration-color: #00af00\">7,400</span> (28.91 KB)\n",
       "</pre>\n"
      ],
      "text/plain": [
       "\u001b[1m Total params: \u001b[0m\u001b[38;5;34m7,400\u001b[0m (28.91 KB)\n"
      ]
     },
     "metadata": {},
     "output_type": "display_data"
    },
    {
     "data": {
      "text/html": [
       "<pre style=\"white-space:pre;overflow-x:auto;line-height:normal;font-family:Menlo,'DejaVu Sans Mono',consolas,'Courier New',monospace\"><span style=\"font-weight: bold\"> Trainable params: </span><span style=\"color: #00af00; text-decoration-color: #00af00\">2,466</span> (9.63 KB)\n",
       "</pre>\n"
      ],
      "text/plain": [
       "\u001b[1m Trainable params: \u001b[0m\u001b[38;5;34m2,466\u001b[0m (9.63 KB)\n"
      ]
     },
     "metadata": {},
     "output_type": "display_data"
    },
    {
     "data": {
      "text/html": [
       "<pre style=\"white-space:pre;overflow-x:auto;line-height:normal;font-family:Menlo,'DejaVu Sans Mono',consolas,'Courier New',monospace\"><span style=\"font-weight: bold\"> Non-trainable params: </span><span style=\"color: #00af00; text-decoration-color: #00af00\">0</span> (0.00 B)\n",
       "</pre>\n"
      ],
      "text/plain": [
       "\u001b[1m Non-trainable params: \u001b[0m\u001b[38;5;34m0\u001b[0m (0.00 B)\n"
      ]
     },
     "metadata": {},
     "output_type": "display_data"
    },
    {
     "data": {
      "text/html": [
       "<pre style=\"white-space:pre;overflow-x:auto;line-height:normal;font-family:Menlo,'DejaVu Sans Mono',consolas,'Courier New',monospace\"><span style=\"font-weight: bold\"> Optimizer params: </span><span style=\"color: #00af00; text-decoration-color: #00af00\">4,934</span> (19.28 KB)\n",
       "</pre>\n"
      ],
      "text/plain": [
       "\u001b[1m Optimizer params: \u001b[0m\u001b[38;5;34m4,934\u001b[0m (19.28 KB)\n"
      ]
     },
     "metadata": {},
     "output_type": "display_data"
    }
   ],
   "source": [
    "model.summary()  #For Providing a concise overviewnof the Neural Network Model's Architecture"
   ]
  },
  {
   "cell_type": "markdown",
   "id": "671bac25-1c7e-4dee-87fe-554967e724cd",
   "metadata": {},
   "source": [
    " ##  Makeing predictions on the test data using the trained model\n",
    " ###  Evaluating the model's performance on the test data using accuracy, classification report, and confusion matrix."
   ]
  },
  {
   "cell_type": "code",
   "execution_count": 39,
   "id": "79edb8aa-708a-4a18-8573-df869810cb29",
   "metadata": {},
   "outputs": [
    {
     "name": "stdout",
     "output_type": "stream",
     "text": [
      "\u001b[1m52/52\u001b[0m \u001b[32m━━━━━━━━━━━━━━━━━━━━\u001b[0m\u001b[37m\u001b[0m \u001b[1m0s\u001b[0m 1ms/step\n",
      "Test accuracy: 0.931\n",
      "Classification report:\n",
      "              precision    recall  f1-score   support\n",
      "\n",
      "         0.0       0.92      0.95      0.93       820\n",
      "         1.0       0.95      0.91      0.93       823\n",
      "\n",
      "    accuracy                           0.93      1643\n",
      "   macro avg       0.93      0.93      0.93      1643\n",
      "weighted avg       0.93      0.93      0.93      1643\n",
      "\n",
      "Confusion matrix:\n",
      "[[778  42]\n",
      " [ 71 752]]\n"
     ]
    }
   ],
   "source": [
    "from sklearn.metrics import accuracy_score, classification_report, confusion_matrix\n",
    "\n",
    "# Make predictions on the test data\n",
    "y_pred = model.predict(X_test)\n",
    "\n",
    "# Convert the predictions to class labels (fraud or not fraud)\n",
    "y_pred_class = tf.argmax(y_pred, axis=1).numpy()  # convert to numpy array\n",
    "\n",
    "# Assuming y_test is a pandas Series, convert it to a numpy array\n",
    "y_test_class = y_test.to_numpy()  # or y_test.values\n",
    "\n",
    "# Evaluate the model on the test data\n",
    "accuracy = accuracy_score(y_test_class, y_pred_class)\n",
    "print(f\"Test accuracy: {accuracy:.3f}\")\n",
    "\n",
    "print(\"Classification report:\")\n",
    "print(classification_report(y_test_class, y_pred_class))\n",
    "\n",
    "print(\"Confusion matrix:\")\n",
    "print(confusion_matrix(y_test_class, y_pred_class))"
   ]
  },
  {
   "cell_type": "markdown",
   "id": "2ea939df-82e1-440d-8dc2-3429eb1d226b",
   "metadata": {},
   "source": [
    "--------------------------------------------------------------------------------------------------------------------------------------------------------\n",
    "### Let's break down the output:\n",
    "\n",
    "**- Test accuracy:** 0.936 This means that your model is correctly classifying approximately 92.2% of the test samples.\n",
    "\n",
    "**- Classification report:** This report provides a detailed analysis of your model's performance on each class.\n",
    "\n",
    "**- Precision:** The precision for class 0 is 0.90, which means that out of all the samples predicted as class 0, 90% are actually class 0. Similarly, the precision for class 1 is 0.94.\n",
    "\n",
    "**- Recall:** The recall for class 0 is 0.94, which means that out of all the actual class 0 samples, 94% are correctly predicted as class 0. Similarly, the recall for class 1 is 0.90.\n",
    "\n",
    "**- F1-score:** The F1-score is the harmonic mean of precision and recall. It provides a balanced measure of both. For both classes, the F1-score is approximately 0.92.\n",
    "\n",
    "**- Support:** This is the number of actual samples in each class. There are 820 samples in class 0 and 823 samples in class 1.\n",
    "\n",
    "**- Macro avg and weighted avg:** These are averages of the precision, recall, and F1-score across both classes. The macro average is a simple average, while the weighted average is weighted by the support (number of samples) in each class.\n",
    "\n",
    "**- Confusion matrix:** This matrix shows the number of true positives (TP), false positives (FP), true negatives (TN), and false negatives (FN) for each class.\n",
    "\n",
    "Class 0: TP = 774, FN = 46 (actual class 0 samples misclassified as class 1)\n",
    "Class 1: TP = 741, FN = 82 (actual class 1 samples misclassified as class 0)\n",
    "Overall, our model is performing well, with a high accuracy and good balance between precision and recall for both classes."
   ]
  },
  {
   "cell_type": "markdown",
   "id": "f87bedc7-a4fe-46df-b41a-670ea2658dd0",
   "metadata": {},
   "source": [
    "## Performing hyperparameter tuning using randomized search for (XGB) from scikit-learn"
   ]
  },
  {
   "cell_type": "code",
   "execution_count": 40,
   "id": "6e4e73bb-461a-455a-99ec-0ad5715052df",
   "metadata": {},
   "outputs": [
    {
     "name": "stdout",
     "output_type": "stream",
     "text": [
      "Best Parameters: {'subsample': 1, 'reg_lambda': 0, 'reg_alpha': 0, 'n_estimators': 500, 'max_depth': 9, 'learning_rate': 0.1, 'gamma': 0.1, 'colsample_bytree': 0.8}\n",
      "Best Score: 0.9923895183941303\n",
      "Validation Accuracy: 0.996956786366403\n",
      "Validation Classification Report:\n",
      "              precision    recall  f1-score   support\n",
      "\n",
      "         0.0       1.00      1.00      1.00       829\n",
      "         1.0       1.00      1.00      1.00       814\n",
      "\n",
      "    accuracy                           1.00      1643\n",
      "   macro avg       1.00      1.00      1.00      1643\n",
      "weighted avg       1.00      1.00      1.00      1643\n",
      "\n",
      "Validation Confusion Matrix:\n",
      "[[827   2]\n",
      " [  3 811]]\n"
     ]
    }
   ],
   "source": [
    "from sklearn.model_selection import RandomizedSearchCV\n",
    "from xgboost import XGBClassifier\n",
    "from sklearn.model_selection import train_test_split\n",
    "\n",
    "# Assume X_train, y_train, X_val, y_val are already defined\n",
    "\n",
    "# Define the hyperparameter search space for XGB Classifier\n",
    "param_grid = {\n",
    "    'max_depth': [3, 5, 7, 9],\n",
    "    'learning_rate': [0.01, 0.1, 0.5, 1],\n",
    "    'n_estimators': [50, 100, 200, 500],\n",
    "    'gamma': [0, 0.1, 0.5, 1],\n",
    "    'subsample': [0.5, 0.8, 1],\n",
    "    'colsample_bytree': [0.5, 0.8, 1],\n",
    "    'reg_alpha': [0, 0.1, 0.5, 1],\n",
    "    'reg_lambda': [0, 0.1, 0.5, 1]\n",
    "}\n",
    "\n",
    "# Initialize the XGB Classifier\n",
    "xgb_model = XGBClassifier()\n",
    "\n",
    "# Perform Randomized Search with 5-fold cross-validation\n",
    "random_search = RandomizedSearchCV(xgb_model, param_grid, cv=5, scoring='f1_macro', n_iter=10, random_state=42)\n",
    "\n",
    "# Fit the Randomized Search to the training data\n",
    "random_search.fit(X_train, y_train)\n",
    "\n",
    "# Print the best hyperparameters and the corresponding score\n",
    "print(\"Best Parameters:\", random_search.best_params_)\n",
    "print(\"Best Score:\", random_search.best_score_)\n",
    "\n",
    "# Train the XGB Classifier with the best hyperparameters\n",
    "best_model = random_search.best_estimator_\n",
    "best_model.fit(X_train, y_train)\n",
    "\n",
    "# Evaluate the best model on the validation set\n",
    "y_val_pred = best_model.predict(X_val)\n",
    "print(\"Validation Accuracy:\", accuracy_score(y_val, y_val_pred))\n",
    "print(\"Validation Classification Report:\")\n",
    "print(classification_report(y_val, y_val_pred))\n",
    "print(\"Validation Confusion Matrix:\")\n",
    "print(confusion_matrix(y_val, y_val_pred))"
   ]
  },
  {
   "cell_type": "markdown",
   "id": "ce9070e3-1890-4f47-8550-6b6aad8ea826",
   "metadata": {},
   "source": [
    "### This is working very well in every aspects. Only it takes some time to run. And as we are aiming to build a rosbust system for the end user, so we have to make it fast."
   ]
  },
  {
   "cell_type": "markdown",
   "id": "8a252586-d764-428e-9029-9fb39113eeff",
   "metadata": {},
   "source": [
    "## Performing hyperparameter tuning using techniques like grid search or randomized search for (Random Forest)from scikit-learn"
   ]
  },
  {
   "cell_type": "code",
   "execution_count": 41,
   "id": "aec722cf-cefc-4c46-93b7-63b1ebe159c6",
   "metadata": {
    "scrolled": true
   },
   "outputs": [
    {
     "name": "stdout",
     "output_type": "stream",
     "text": [
      "Grid search best hyperparameters: {'max_depth': 10, 'min_samples_leaf': 1, 'n_estimators': 100}\n",
      "Grid search best score: 0.9920852359208524\n",
      "Randomized search best hyperparameters: {'max_depth': 8, 'min_samples_leaf': 1, 'n_estimators': 85}\n",
      "Randomized search best score: 0.989497716894977\n"
     ]
    }
   ],
   "source": [
    "from sklearn.model_selection import GridSearchCV, RandomizedSearchCV\n",
    "from sklearn.ensemble import RandomForestClassifier\n",
    "from scipy.stats import randint, uniform\n",
    "\n",
    "# Define the hyperparameter space for grid search\n",
    "grid_space = {\n",
    "    'n_estimators': [10, 50, 100],\n",
    "    'max_depth': [3, 5, 10],\n",
    "    'min_samples_leaf': [1, 2, 3]\n",
    "}\n",
    "\n",
    "# Define the hyperparameter space for randomized search\n",
    "random_space = {\n",
    "    'n_estimators': randint(10, 100),  # Define as a distribution\n",
    "    'max_depth': randint(3, 10),  # Define as a distribution\n",
    "    'min_samples_leaf': randint(1, 3)  # Define as a distribution\n",
    "}\n",
    "\n",
    "# Initialize the random forest classifier\n",
    "rf = RandomForestClassifier()\n",
    "\n",
    "# Perform grid search\n",
    "grid_search = GridSearchCV(rf, grid_space, cv=5, scoring='accuracy')\n",
    "grid_result = grid_search.fit(X_train, y_train)\n",
    "\n",
    "# Perform randomized search\n",
    "random_search = RandomizedSearchCV(rf, random_space, cv=5, scoring='accuracy', n_iter=10)\n",
    "random_result = random_search.fit(X_train, y_train)\n",
    "\n",
    "# Print the best hyperparameters and score for both searches\n",
    "print(\"Grid search best hyperparameters:\", grid_result.best_params_)\n",
    "print(\"Grid search best score:\", grid_result.best_score_)\n",
    "print(\"Randomized search best hyperparameters:\", random_result.best_params_)\n",
    "print(\"Randomized search best score:\", random_result.best_score_)"
   ]
  },
  {
   "cell_type": "markdown",
   "id": "0e62b4f5-0525-4d70-b8f9-166033a41dc2",
   "metadata": {},
   "source": [
    "__GRID SEARCH__ is useful when you have a small number of hyperparameters to tune and you want to exhaustively search the entire space. It's also useful when you have a good idea of the optimal hyperparameter values and you want to fine-tune them.\n",
    "\n",
    "__RANDOMIZED SEARCH__ on the other hand, is useful when you have a large number of hyperparameters to tune and you want to search the space more efficiently. It's also useful when you don't have a good idea of the optimal hyperparameter values and you want to explore the space more randomly.\n",
    "\n",
    "By using both techniques, you can get the benefits of both exhaustive search and efficient search. For example, you can use grid search to fine-tune the hyperparameters that you think are most important, and then use randomized search to explore the rest of the hyperparameter space."
   ]
  },
  {
   "cell_type": "code",
   "execution_count": 42,
   "id": "dbdca593-9510-4e25-9cbf-455f46e94509",
   "metadata": {},
   "outputs": [
    {
     "name": "stdout",
     "output_type": "stream",
     "text": [
      "Grid search classification report:\n",
      "              precision    recall  f1-score   support\n",
      "\n",
      "         0.0       1.00      1.00      1.00       820\n",
      "         1.0       1.00      1.00      1.00       823\n",
      "\n",
      "    accuracy                           1.00      1643\n",
      "   macro avg       1.00      1.00      1.00      1643\n",
      "weighted avg       1.00      1.00      1.00      1643\n",
      "\n",
      "Grid search confusion matrix:\n",
      "[[816   4]\n",
      " [  1 822]]\n",
      "Randomized search classification report:\n",
      "              precision    recall  f1-score   support\n",
      "\n",
      "         0.0       1.00      0.99      0.99       820\n",
      "         1.0       0.99      1.00      0.99       823\n",
      "\n",
      "    accuracy                           0.99      1643\n",
      "   macro avg       0.99      0.99      0.99      1643\n",
      "weighted avg       0.99      0.99      0.99      1643\n",
      "\n",
      "Randomized search confusion matrix:\n",
      "[[812   8]\n",
      " [  1 822]]\n"
     ]
    }
   ],
   "source": [
    "from sklearn.metrics import classification_report, confusion_matrix\n",
    "\n",
    "# Evaluate the model performance on the test dataset\n",
    "grid_y_pred = grid_result.best_estimator_.predict(X_test)\n",
    "random_y_pred = random_result.best_estimator_.predict(X_test)\n",
    "\n",
    "print(\"Grid search classification report:\")\n",
    "print(classification_report(y_test, grid_y_pred))\n",
    "print(\"Grid search confusion matrix:\")\n",
    "print(confusion_matrix(y_test, grid_y_pred))\n",
    "\n",
    "print(\"Randomized search classification report:\")\n",
    "print(classification_report(y_test, random_y_pred))\n",
    "print(\"Randomized search confusion matrix:\")\n",
    "print(confusion_matrix(y_test, random_y_pred))"
   ]
  },
  {
   "cell_type": "markdown",
   "id": "b078f9fe-d70a-4e63-a2b2-d9f9694779bd",
   "metadata": {},
   "source": [
    "--------------------------------------------------------------------------------------------------------------------------------------------------------\n",
    "#### Classification Report:\n",
    "\n",
    "The classification report shows the precision, recall, F1 score, and support for each class. In this case, we have two classes: 0 and 1.\n",
    "\n",
    "__Precision:__ The precision for both classes is 1.00, which means that all predicted instances for each class are correct.\n",
    "\n",
    "__Recall:__ The recall for both classes is 1.00, which means that all actual instances for each class are correctly predicted.\n",
    "\n",
    "__F1 score:__ The F1 score is the harmonic mean of precision and recall, and it's also 1.00 for both classes.\n",
    "\n",
    "__Support:__ The support is the number of actual instances for each class.\n",
    "\n",
    "##### The accuracy, macro avg, and weighted avg are all 1.00, which indicates that the models are performing perfectly on the test dataset.\n",
    "\n",
    "__Confusion Matrix:__\n",
    "\n",
    "The confusion matrix shows the number of true positives (TP), false positives (FP), true negatives (TN), and false negatives (FN) for each class.\n",
    "\n",
    "#### For the grid search model:\n",
    "Class 0: 817 true positives, 3 false positives, 0 false negatives, and 823 true negatives.\n",
    "\n",
    "Class 1: 1 false negative, 822 true positives, 3 false positives, and 817 true negatives.\n",
    "\n",
    "#### For the randomized search model:\n",
    "Class 0: 816 true positives,4 false positives, 0 false negatives, 823 true negatives.\n",
    "\n",
    "Class 1: 1 false negative, 822 true positives, 4 false positives, and 816 true negatives.\n",
    "\n",
    "- Both models are performing extremely well, with only a few misclassifications. The grid search model has 3 false positives and 1 false negative, while the randomized search model has 4 false positives and 1 false negative.\n",
    "\n",
    "Overall, these results suggest that both models are highly accurate and reliable, and can be used for making predictions on new, unseen data."
   ]
  },
  {
   "cell_type": "markdown",
   "id": "5cf24add-92fc-43bd-9a91-c70ae0601845",
   "metadata": {},
   "source": [
    "# Visualizing Performance Metrics"
   ]
  },
  {
   "cell_type": "markdown",
   "id": "a03ed617-212d-4c46-af7a-58a81217ba05",
   "metadata": {},
   "source": [
    "## 1. ROC-AUC Curve\n",
    "\n",
    "#### The ROC-AUC (Receiver Operating Characteristic - Area Under the Curve) curve is a popular metric for evaluating the performance of binary classification models. We can use the roc_auc_score function from scikit-learn to calculate the AUC and plot the ROC curve:"
   ]
  },
  {
   "cell_type": "code",
   "execution_count": 44,
   "id": "8162c3f3-c94f-42ff-af47-142cb71232c7",
   "metadata": {},
   "outputs": [
    {
     "data": {
      "image/png": "[encoded data removed]",
      "text/plain": [
       "<Figure size 800x600 with 1 Axes>"
      ]
     },
     "metadata": {},
     "output_type": "display_data"
    }
   ],
   "source": [
    "from sklearn.metrics import roc_auc_score, roc_curve\n",
    "import seaborn as sns\n",
    "import matplotlib.pyplot as plt\n",
    "# Calculate the AUC and ROC curve for each model\n",
    "grid_auc = roc_auc_score(y_test, grid_y_pred)\n",
    "random_auc = roc_auc_score(y_test, random_y_pred)\n",
    "\n",
    "grid_fpr, grid_tpr, _ = roc_curve(y_test, grid_y_pred)\n",
    "random_fpr, random_tpr, _ = roc_curve(y_test, random_y_pred)\n",
    "\n",
    "# Create a figure and axis\n",
    "fig, ax = plt.subplots(figsize=(8, 6))\n",
    "\n",
    "# Plot the ROC curves\n",
    "ax.plot(grid_fpr, grid_tpr, label=f\"Grid Search AUC: {grid_auc:.3f}\")\n",
    "ax.plot(random_fpr, random_tpr, label=f\"Randomized Search AUC: {random_auc:.3f}\")\n",
    "ax.plot([0, 1], [0, 1], \"k--\")  # Random chance line\n",
    "ax.set_xlabel(\"False Positive Rate\")\n",
    "ax.set_ylabel(\"True Positive Rate\")\n",
    "ax.set_title(\"ROC-AUC Curve\")\n",
    "ax.legend()\n",
    "\n",
    "plt.show()"
   ]
  },
  {
   "cell_type": "markdown",
   "id": "91de4936-b05b-49b7-a073-8471eeed44f0",
   "metadata": {},
   "source": [
    "## 2. Precision-Recall Curve\n",
    "\n",
    "#### The precision-recall curve is another useful metric for evaluating the performance of binary classification models. We can use the precision_recall_curve function from scikit-learn to calculate the precision and recall and plot the curve:"
   ]
  },
  {
   "cell_type": "code",
   "execution_count": 45,
   "id": "bdd42dc0-4bf8-4e1c-ba2b-5e499175b43b",
   "metadata": {},
   "outputs": [
    {
     "data": {
      "image/png": "[encoded data removed]",
      "text/plain": [
       "<Figure size 800x600 with 1 Axes>"
      ]
     },
     "metadata": {},
     "output_type": "display_data"
    }
   ],
   "source": [
    "from sklearn.metrics import precision_recall_curve\n",
    "\n",
    "# Calculate the precision and recall for each model\n",
    "grid_precision, grid_recall, _ = precision_recall_curve(y_test, grid_y_pred)\n",
    "random_precision, random_recall, _ = precision_recall_curve(y_test, random_y_pred)\n",
    "\n",
    "# Create a figure and axis\n",
    "fig, ax = plt.subplots(figsize=(8, 6))\n",
    "\n",
    "# Plot the precision-recall curves\n",
    "ax.plot(grid_recall, grid_precision, label=f\"Grid Search\")\n",
    "ax.plot(random_recall, random_precision, label=f\"Randomized Search\")\n",
    "ax.set_xlabel(\"Recall\")\n",
    "ax.set_ylabel(\"Precision\")\n",
    "ax.set_title(\"Precision-Recall Curve\")\n",
    "ax.legend()\n",
    "\n",
    "plt.show()"
   ]
  },
  {
   "cell_type": "markdown",
   "id": "f6fe1ff1-d8a1-458b-b01c-878552474542",
   "metadata": {},
   "source": [
    "# Saving the trained best model using joblib"
   ]
  },
  {
   "cell_type": "code",
   "execution_count": 46,
   "id": "5eca6284-ee73-4ab2-9afb-dd0361e4a53b",
   "metadata": {},
   "outputs": [
    {
     "name": "stdout",
     "output_type": "stream",
     "text": [
      "Model has been saved successfully.\n"
     ]
    }
   ],
   "source": [
    "import pandas as pd\n",
    "from sklearn.model_selection import train_test_split, RandomizedSearchCV\n",
    "from sklearn.preprocessing import StandardScaler\n",
    "from sklearn.ensemble import RandomForestClassifier\n",
    "import joblib\n",
    "\n",
    "# Load your dataset\n",
    "df = pd.read_csv('Main_cleaned_dataset.csv')  # Replace 'your_dataset.csv' with the path to your dataset\n",
    "\n",
    "# Preprocess data\n",
    "numerical_cols = ['amount', 'oldbalanceOrg', 'newbalanceOrig']\n",
    "scaler = StandardScaler()\n",
    "df[numerical_cols] = scaler.fit_transform(df[numerical_cols])\n",
    "\n",
    "# Separate features (X) and target (y)\n",
    "X = df[['type', 'amount', 'oldbalanceOrg', 'newbalanceOrig']]\n",
    "y = df['isFraud']\n",
    "\n",
    "# Train-test split\n",
    "X_train, X_test, y_train, y_test = train_test_split(X, y, test_size=0.2, random_state=42)\n",
    "\n",
    "# Define the model and parameter space\n",
    "rf = RandomForestClassifier()\n",
    "\n",
    "param_space = {\n",
    "    'n_estimators': [100, 200],\n",
    "    'max_features': [None, 'sqrt', 'log2'],  # Corrected the parameter value\n",
    "    'max_depth': [4, 5, 6],\n",
    "    'criterion': ['gini', 'entropy']\n",
    "}\n",
    "\n",
    "# RandomizedSearchCV with parallelization and fewer iterations\n",
    "random_search = RandomizedSearchCV(estimator=rf, param_distributions=param_space, cv=5, scoring='accuracy', n_iter=10, n_jobs=-1, random_state=42)\n",
    "randomized_search_model = random_search.fit(X_train, y_train)\n",
    "\n",
    "# Save the models using joblib\n",
    "joblib.dump(randomized_search_model, 'best_randomized_model.joblib')\n",
    "\n",
    "print(\"Model has been saved successfully.\")"
   ]
  },
  {
   "cell_type": "markdown",
   "id": "6a988029-290f-45e6-b9f0-898c1e2e581b",
   "metadata": {},
   "source": [
    "# Loading the saved models"
   ]
  },
  {
   "cell_type": "code",
   "execution_count": 47,
   "id": "f35ac011-fa5c-4f43-acd4-21bdc90a8eb8",
   "metadata": {},
   "outputs": [
    {
     "name": "stdout",
     "output_type": "stream",
     "text": [
      "Grid Search model loaded successfully!\n",
      "Randomized Search model loaded successfully!\n"
     ]
    }
   ],
   "source": [
    "grid_search_model_loaded = joblib.load('best_grid_model.joblib')\n",
    "print(\"Grid Search model loaded successfully!\")\n",
    "\n",
    "randomized_search_model_loaded = joblib.load('best_randomized_model.joblib')\n",
    "print(\"Randomized Search model loaded successfully!\")"
   ]
  },
  {
   "cell_type": "markdown",
   "id": "fc5b936a-9085-4890-9fe5-8478f03c9cc8",
   "metadata": {},
   "source": [
    "# *Makeing predictions on the test data using the trained model.*"
   ]
  },
  {
   "cell_type": "code",
   "execution_count": 48,
   "id": "8ca873c5-0ba0-4bb6-b703-43111ba172c3",
   "metadata": {},
   "outputs": [
    {
     "name": "stdout",
     "output_type": "stream",
     "text": [
      "Prediction: 0 - Non-Fraud\n"
     ]
    }
   ],
   "source": [
    "# Preprocess data - similar to your training setup\n",
    "numerical_cols = ['amount', 'oldbalanceOrg', 'newbalanceOrig'] \n",
    "scaler = StandardScaler()\n",
    "df[numerical_cols] = scaler.fit_transform(df[numerical_cols])\n",
    "\n",
    "# Separate features (X) and target (y)\n",
    "X = df[['type', 'amount','oldbalanceOrg','newbalanceOrig']]\n",
    "y = df['isFraud']\n",
    "\n",
    "# Train-test split - adjust as needed\n",
    "X_train, X_test, y_train, y_test = train_test_split(X, y, test_size=0.2, random_state=42) \n",
    "\n",
    "# Train your XGBoost model\n",
    "model = xgb.XGBClassifier()\n",
    "model.fit(X_train, y_train)\n",
    "\n",
    "# Load your trained model (if you saved it)\n",
    "model = joblib.load('best_randomized_model.joblib')\n",
    "\n",
    "#  Make predictions on new data\n",
    "new_data = pd.DataFrame({\n",
    "    'type': [3], \n",
    "    'amount': [213680.68],\n",
    "    'oldbalanceOrg': [0],  # Corrected column name\n",
    "    'newbalanceOrig': [213680.68]\n",
    "})\n",
    "# Preprocess new data (same as during training)\n",
    "new_data[numerical_cols] = scaler.transform(new_data[numerical_cols]) \n",
    "\n",
    "# Make prediction\n",
    "random_search = RandomizedSearchCV(rf, random_space, cv=5, scoring='accuracy', n_iter=10)\n",
    "random_result = random_search.fit(X_train, y_train)  # Fit the RandomizedSearchCV instance\n",
    "\n",
    "# Now you can use the best estimator to make predictions\n",
    "prediction = random_search.best_estimator_.predict(new_data)\n",
    "\n",
    "if prediction[0] == 0:\n",
    "    print(\"Prediction: 0 - Non-Fraud\")\n",
    "else:\n",
    "    print(\"Prediction: 1 - Fraud\")"
   ]
  },
  {
   "cell_type": "code",
   "execution_count": 49,
   "id": "101d9550-9888-41da-b6dd-00695c1885bc",
   "metadata": {},
   "outputs": [
    {
     "name": "stdout",
     "output_type": "stream",
     "text": [
      "Prediction: 1 - Fraud\n"
     ]
    }
   ],
   "source": [
    "# Preprocess data - similar to your training setup\n",
    "numerical_cols = ['amount', 'oldbalanceOrg', 'newbalanceOrig'] \n",
    "scaler = StandardScaler()\n",
    "df[numerical_cols] = scaler.fit_transform(df[numerical_cols])\n",
    "\n",
    "# Separate features (X) and target (y)\n",
    "X = df[['type', 'amount','oldbalanceOrg','newbalanceOrig']]\n",
    "y = df['isFraud']\n",
    "\n",
    "# Train-test split - adjust as needed\n",
    "X_train, X_test, y_train, y_test = train_test_split(X, y, test_size=0.2, random_state=42) \n",
    "\n",
    "# Train your XGBoost model\n",
    "model = xgb.XGBClassifier()\n",
    "model.fit(X_train, y_train)\n",
    "\n",
    "# Load your trained model (if you saved it)\n",
    "model = joblib.load('best_randomized_model.joblib')\n",
    "\n",
    "#  Make predictions on new data\n",
    "new_data = pd.DataFrame({\n",
    "    'type': [4], \n",
    "    'amount': [1266752.6],\n",
    "    'oldbalanceOrg': [1266752.6],  # Corrected column name\n",
    "    'newbalanceOrig': [0]\n",
    "})\n",
    "# Preprocess new data (same as during training)\n",
    "new_data[numerical_cols] = scaler.transform(new_data[numerical_cols]) \n",
    "\n",
    "# Make prediction\n",
    "random_search = RandomizedSearchCV(rf, random_space, cv=5, scoring='accuracy', n_iter=10)\n",
    "random_result = random_search.fit(X_train, y_train)  # Fit the RandomizedSearchCV instance\n",
    "\n",
    "# Now you can use the best estimator to make predictions\n",
    "prediction = random_search.best_estimator_.predict(new_data)\n",
    "\n",
    "if prediction[0] == 0:\n",
    "    print(\"Prediction: 0 - Non-Fraud\")\n",
    "else:\n",
    "    print(\"Prediction: 1 - Fraud\")"
   ]
  },
  {
   "cell_type": "markdown",
   "id": "5a5ec9e4-4661-41b1-a06d-497998cdff63",
   "metadata": {},
   "source": [
    "## ***---------------------------------SUCCESSFULLY DONE -------------------------------------------***"
   ]
  },
  {
   "cell_type": "code",
   "execution_count": null,
   "id": "3ff11f9d-d48a-4f48-b77a-a93f4fd88c28",
   "metadata": {},
   "outputs": [],
   "source": []
  }
 ],
 "metadata": {
  "kernelspec": {
   "display_name": "Python 3 (ipykernel)",
   "language": "python",
   "name": "python3"
  },
  "language_info": {
   "codemirror_mode": {
    "name": "ipython",
    "version": 3
   },
   "file_extension": ".py",
   "mimetype": "text/x-python",
   "name": "python",
   "nbconvert_exporter": "python",
   "pygments_lexer": "ipython3",
   "version": "3.12.1"
  }
 },
 "nbformat": 4,
 "nbformat_minor": 5
}
